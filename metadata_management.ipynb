{
 "cells": [
  {
   "cell_type": "markdown",
   "metadata": {},
   "source": [
    "# InΞvitable\n",
    "*Managing On-Chain and Off-Chain Data (Back-end)*"
   ]
  },
  {
   "cell_type": "markdown",
   "metadata": {},
   "source": [
    "---"
   ]
  },
  {
   "cell_type": "markdown",
   "metadata": {},
   "source": [
    "## Config"
   ]
  },
  {
   "cell_type": "code",
   "execution_count": null,
   "metadata": {},
   "outputs": [],
   "source": [
    "import json\n",
    "import boto3\n",
    "import uuid\n",
    "import datetime\n",
    "\n",
    "key_id = ''\n",
    "secret = ''\n",
    "bucket_name = 'inevitable-0xfbravo'\n",
    "bucket_prefix = 'metadata/'\n",
    "obj_key = uuid.uuid4().__str__() + '.json'"
   ]
  },
  {
   "cell_type": "code",
   "execution_count": null,
   "metadata": {},
   "outputs": [],
   "source": [
    "session = boto3.Session(aws_access_key_id=key_id, aws_secret_access_key=secret)\n",
    "s3 = session.resource('s3')\n",
    "bucket = s3.Bucket(bucket_name)"
   ]
  },
  {
   "cell_type": "markdown",
   "metadata": {},
   "source": [
    "---"
   ]
  },
  {
   "cell_type": "markdown",
   "metadata": {},
   "source": [
    "# Create proccess\n",
    "To help our life, we'll create a metadata directly from **Python + AWS S3**"
   ]
  },
  {
   "cell_type": "code",
   "execution_count": null,
   "metadata": {},
   "outputs": [],
   "source": [
    "data = json.dumps({\n",
    "    'name': 'InΞvitable Party #1',\n",
    "    'description': 'Ticket to InΞvitable\\'s party',\n",
    "    'image': 'https://lwfiles.mycourse.app/inevitable-public/custom/400x0_f6c1f9c833a2ed29c2633ca3549b2fb9.png',\n",
    "    \"attributes\": [\n",
    "        {\n",
    "            \"trait_type\": \"Event\",\n",
    "            \"value\": \"InΞvitable Party 🥳\"\n",
    "        },\n",
    "        {\n",
    "            \"trait_type\": \"Type\",\n",
    "            \"value\": \"VIP\"\n",
    "        },\n",
    "        {\n",
    "            \"trait_type\": \"Valid for use?\",\n",
    "            \"value\": True\n",
    "        }\n",
    "    ],\n",
    "})\n",
    "bucket.put_object(Key=obj_key, Body=data, ContentType='application/json', ACL='public-read')"
   ]
  },
  {
   "cell_type": "markdown",
   "metadata": {},
   "source": [
    "---"
   ]
  },
  {
   "cell_type": "markdown",
   "metadata": {},
   "source": [
    "## Update proccess\n",
    "On **AWS S3**, files aren't updatable. So we need to delete the old one and replace it with the new data on the same previous object's key."
   ]
  },
  {
   "cell_type": "code",
   "execution_count": null,
   "metadata": {},
   "outputs": [],
   "source": [
    "print(f'Updating metadata for {obj_key}')\n",
    "object = s3.Object(bucket_name, obj_key)\n",
    "body = object.get()['Body'].read()\n",
    "data = json.loads(body)\n",
    "data['someNewData'] = 'It was InΞvitable to change it'\n",
    "data['updatedAt'] = datetime.datetime.now().isoformat()\n",
    "object.delete()\n",
    "bucket.put_object(Key=object.key, Body=json.dumps(data), ContentType='application/json', ACL='public-read')"
   ]
  }
 ],
 "metadata": {
  "kernelspec": {
   "display_name": "Python 3.9.6 64-bit",
   "language": "python",
   "name": "python3"
  },
  "language_info": {
   "codemirror_mode": {
    "name": "ipython",
    "version": 3
   },
   "file_extension": ".py",
   "mimetype": "text/x-python",
   "name": "python",
   "nbconvert_exporter": "python",
   "pygments_lexer": "ipython3",
   "version": "3.9.6"
  },
  "orig_nbformat": 4,
  "vscode": {
   "interpreter": {
    "hash": "31f2aee4e71d21fbe5cf8b01ff0e069b9275f58929596ceb00d14d90e3e16cd6"
   }
  }
 },
 "nbformat": 4,
 "nbformat_minor": 2
}
